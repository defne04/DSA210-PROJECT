{
  "nbformat": 4,
  "nbformat_minor": 0,
  "metadata": {
    "colab": {
      "provenance": [],
      "authorship_tag": "ABX9TyPMcrFHNa2L9C5/ucQEvUMx",
      "include_colab_link": true
    },
    "kernelspec": {
      "name": "python3",
      "display_name": "Python 3"
    },
    "language_info": {
      "name": "python"
    }
  },
  "cells": [
    {
      "cell_type": "markdown",
      "metadata": {
        "id": "view-in-github",
        "colab_type": "text"
      },
      "source": [
        "<a href=\"https://colab.research.google.com/github/defne04/DSA210-PROJECT/blob/main/ML_model.ipynb\" target=\"_parent\"><img src=\"https://colab.research.google.com/assets/colab-badge.svg\" alt=\"Open In Colab\"/></a>"
      ]
    },
    {
      "cell_type": "code",
      "execution_count": 4,
      "metadata": {
        "colab": {
          "base_uri": "https://localhost:8080/"
        },
        "id": "QBTYW6gIcmUm",
        "outputId": "182cff2d-09eb-4a4b-c476-b7eec3761069"
      },
      "outputs": [
        {
          "output_type": "stream",
          "name": "stdout",
          "text": [
            "✅ Random Forest Evaluation Results:\n",
            "Mean Absolute Error: 0.67 sets\n",
            "Mean Squared Error: 0.74\n",
            "R² Score: -0.26\n"
          ]
        }
      ],
      "source": [
        "import pandas as pd\n",
        "\n",
        "# Replace with the actual filename if it's different\n",
        "df = pd.read_csv('/content/atp_tennis.csv')\n",
        "\n",
        "# View first few rows\n",
        "df.head()\n",
        "\n",
        "# 📦 Import libraries\n",
        "import pandas as pd\n",
        "from sklearn.model_selection import train_test_split\n",
        "from sklearn.ensemble import RandomForestRegressor\n",
        "from sklearn.metrics import mean_absolute_error, mean_squared_error, r2_score\n",
        "\n",
        "# 📂 Load the dataset\n",
        "df = pd.read_csv('atp_tennis.csv')\n",
        "\n",
        "# 🧹 Clean and prepare data\n",
        "df = df[['Surface', 'Rank_1', 'Rank_2', 'Score']].copy()\n",
        "df.dropna(inplace=True)\n",
        "\n",
        "# 🧠 Extract number of sets from the 'Score' column\n",
        "def count_sets(score):\n",
        "    try:\n",
        "        return len(score.split())\n",
        "    except:\n",
        "        return None\n",
        "\n",
        "df['match_duration'] = df['Score'].apply(count_sets)\n",
        "\n",
        "# Drop rows where duration couldn't be parsed\n",
        "df.dropna(subset=['match_duration'], inplace=True)\n",
        "\n",
        "# 🔣 One-hot encode 'Surface'\n",
        "df = pd.get_dummies(df, columns=['Surface'], drop_first=True)\n",
        "\n",
        "# 🎯 Define features and target\n",
        "X = df.drop(columns=['Score', 'match_duration'])\n",
        "y = df['match_duration']\n",
        "\n",
        "# 📊 Split data\n",
        "X_train, X_test, y_train, y_test = train_test_split(X, y, test_size=0.2, random_state=42)\n",
        "\n",
        "# 🌲 Train Random Forest model\n",
        "rf = RandomForestRegressor(n_estimators=100, random_state=42)\n",
        "rf.fit(X_train, y_train)\n",
        "\n",
        "# 🔍 Predict and evaluate\n",
        "y_pred = rf.predict(X_test)\n",
        "\n",
        "mae = mean_absolute_error(y_test, y_pred)\n",
        "mse = mean_squared_error(y_test, y_pred)\n",
        "r2 = r2_score(y_test, y_pred)\n",
        "\n",
        "print(\"✅ Random Forest Evaluation Results:\")\n",
        "print(\"Mean Absolute Error:\", round(mae, 2), \"sets\")\n",
        "print(\"Mean Squared Error:\", round(mse, 2))\n",
        "print(\"R² Score:\", round(r2, 2))\n"
      ]
    }
  ]
}